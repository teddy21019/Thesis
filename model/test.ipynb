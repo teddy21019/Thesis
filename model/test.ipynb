{
 "cells": [
  {
   "cell_type": "code",
   "execution_count": 1,
   "metadata": {},
   "outputs": [],
   "source": [
    "from src.payment import MeansOfPaymentType\n",
    "\n",
    "mop1 = MeansOfPaymentType('H_Cash')\n",
    "mop2 = MeansOfPaymentType('F_CBDC')\n",
    "mop3 = MeansOfPaymentType('Deposit')\n",
    "\n",
    "mops = set([mop1, mop2, mop3])"
   ]
  },
  {
   "cell_type": "code",
   "execution_count": 2,
   "metadata": {},
   "outputs": [
    {
     "name": "stdout",
     "output_type": "stream",
     "text": [
      "H_Cash\n"
     ]
    }
   ],
   "source": [
    "print(mop1)"
   ]
  },
  {
   "cell_type": "code",
   "execution_count": 23,
   "metadata": {},
   "outputs": [],
   "source": [
    "from dataclasses import dataclass, field\n",
    "\n",
    "\n",
    "class Person:\n",
    "    def __init__(self, name, age = 10) -> None:\n",
    "        self.name = name\n",
    "        self.age = age\n",
    "\n",
    "\n",
    "@dataclass(order=True)\n",
    "class PersonDC:\n",
    "    name:str = field(compare=False)\n",
    "    age: int = 10"
   ]
  },
  {
   "cell_type": "code",
   "execution_count": 24,
   "metadata": {},
   "outputs": [],
   "source": [
    "p1 = PersonDC('a', age=30)\n",
    "p2 = PersonDC('b', age=40)"
   ]
  },
  {
   "cell_type": "code",
   "execution_count": 26,
   "metadata": {},
   "outputs": [
    {
     "name": "stdout",
     "output_type": "stream",
     "text": [
      "True\n"
     ]
    }
   ],
   "source": [
    "print(p1 < p2)"
   ]
  },
  {
   "cell_type": "code",
   "execution_count": null,
   "metadata": {},
   "outputs": [],
   "source": []
  }
 ],
 "metadata": {
  "kernelspec": {
   "display_name": ".env_thesismodel",
   "language": "python",
   "name": "python3"
  },
  "language_info": {
   "codemirror_mode": {
    "name": "ipython",
    "version": 3
   },
   "file_extension": ".py",
   "mimetype": "text/x-python",
   "name": "python",
   "nbconvert_exporter": "python",
   "pygments_lexer": "ipython3",
   "version": "3.11.2"
  },
  "orig_nbformat": 4,
  "vscode": {
   "interpreter": {
    "hash": "8a124022f326b175111a92ee88ed4ce27db90f39497a827c0f6470a97eeeb9d4"
   }
  }
 },
 "nbformat": 4,
 "nbformat_minor": 2
}
